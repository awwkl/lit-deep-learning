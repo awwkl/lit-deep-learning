{
 "cells": [
  {
   "cell_type": "code",
   "execution_count": 60,
   "id": "a03cb020",
   "metadata": {},
   "outputs": [],
   "source": [
    "import numpy as np\n",
    "import pandas as pd\n",
    "import tensorflow as tf\n",
    "import matplotlib.pyplot as plt\n",
    "from tensorflow.keras.layers import Embedding,LSTM,Dense,Dropout,SpatialDropout1D\n",
    "from tensorflow.keras.preprocessing.sequence import pad_sequences\n",
    "from tensorflow.keras.models import Sequential\n",
    "from tensorflow.keras.preprocessing.text import one_hot\n",
    "from tensorflow.keras.callbacks import EarlyStopping\n",
    "from keras.preprocessing.text import Tokenizer"
   ]
  },
  {
   "cell_type": "code",
   "execution_count": 61,
   "id": "29cfc1d8",
   "metadata": {},
   "outputs": [
    {
     "data": {
      "text/html": [
       "<div>\n",
       "<style scoped>\n",
       "    .dataframe tbody tr th:only-of-type {\n",
       "        vertical-align: middle;\n",
       "    }\n",
       "\n",
       "    .dataframe tbody tr th {\n",
       "        vertical-align: top;\n",
       "    }\n",
       "\n",
       "    .dataframe thead th {\n",
       "        text-align: right;\n",
       "    }\n",
       "</style>\n",
       "<table border=\"1\" class=\"dataframe\">\n",
       "  <thead>\n",
       "    <tr style=\"text-align: right;\">\n",
       "      <th></th>\n",
       "      <th>Text</th>\n",
       "      <th>Category</th>\n",
       "    </tr>\n",
       "  </thead>\n",
       "  <tbody>\n",
       "    <tr>\n",
       "      <th>16</th>\n",
       "      <td>Arrestable and Non-Arrestable Offences in Sing...</td>\n",
       "      <td>Criminal</td>\n",
       "    </tr>\n",
       "    <tr>\n",
       "      <th>26</th>\n",
       "      <td>How to Affirm an Affidavit Outside of Singapor...</td>\n",
       "      <td>Legal_Procedures</td>\n",
       "    </tr>\n",
       "    <tr>\n",
       "      <th>0</th>\n",
       "      <td>Drafting a Deed of Separation in Singapore (In...</td>\n",
       "      <td>Divorce</td>\n",
       "    </tr>\n",
       "    <tr>\n",
       "      <th>32</th>\n",
       "      <td>8 Checks to Conduct on Registered Companies in...</td>\n",
       "      <td>Corporate</td>\n",
       "    </tr>\n",
       "  </tbody>\n",
       "</table>\n",
       "</div>"
      ],
      "text/plain": [
       "                                                 Text          Category\n",
       "16  Arrestable and Non-Arrestable Offences in Sing...          Criminal\n",
       "26  How to Affirm an Affidavit Outside of Singapor...  Legal_Procedures\n",
       "0   Drafting a Deed of Separation in Singapore (In...           Divorce\n",
       "32  8 Checks to Conduct on Registered Companies in...         Corporate"
      ]
     },
     "execution_count": 61,
     "metadata": {},
     "output_type": "execute_result"
    }
   ],
   "source": [
    "df = pd.read_csv('train.csv')\n",
    "df.sample(4)"
   ]
  },
  {
   "cell_type": "code",
   "execution_count": 62,
   "id": "8310b167",
   "metadata": {},
   "outputs": [],
   "source": [
    "max_words = 20000\n",
    "tokenizer = Tokenizer(num_words=max_words)\n",
    "tokenizer.fit_on_texts(df['Text'])\n",
    "X_sequences = tokenizer.texts_to_sequences(df['Text'])"
   ]
  },
  {
   "cell_type": "code",
   "execution_count": 63,
   "id": "b7875901",
   "metadata": {},
   "outputs": [],
   "source": [
    "sequence_len = 15\n",
    "X = []\n",
    "y_corpus = []\n",
    "\n",
    "for i in range(len(X_sequences)):\n",
    "    num_sequences = len(X_sequences[i]) // sequence_len\n",
    "    \n",
    "    for j in range(num_sequences):\n",
    "        start = sequence_len * j\n",
    "        end = sequence_len * (j + 1)\n",
    "        X.append(X_sequences[i][start:end])\n",
    "        y_corpus.append(df['Category'][i])"
   ]
  },
  {
   "cell_type": "code",
   "execution_count": 64,
   "id": "903f9944",
   "metadata": {
    "scrolled": true
   },
   "outputs": [
    {
     "name": "stdout",
     "output_type": "stream",
     "text": [
      "(3403, 15)\n",
      "(3403, 4)\n"
     ]
    }
   ],
   "source": [
    "X = pd.DataFrame(X)\n",
    "\n",
    "Y = pd.get_dummies(pd.Series(y_corpus))\n",
    "Y = Y[ sorted(Y.columns) ]\n",
    "\n",
    "print(X.shape)\n",
    "print(Y.shape)"
   ]
  },
  {
   "cell_type": "code",
   "execution_count": 70,
   "id": "b65e2777",
   "metadata": {},
   "outputs": [
    {
     "name": "stdout",
     "output_type": "stream",
     "text": [
      "Index(['Corporate', 'Criminal', 'Divorce', 'Legal_Procedures'], dtype='object')\n"
     ]
    }
   ],
   "source": [
    "print(Y.columns)"
   ]
  },
  {
   "cell_type": "code",
   "execution_count": 65,
   "id": "e1281544",
   "metadata": {
    "scrolled": false
   },
   "outputs": [
    {
     "name": "stdout",
     "output_type": "stream",
     "text": [
      "(2722, 15) (2722, 4)\n",
      "(681, 15) (681, 4)\n"
     ]
    }
   ],
   "source": [
    "from sklearn.model_selection import train_test_split\n",
    "X_train, X_test, Y_train, Y_test = train_test_split(X, Y, test_size = 0.20, random_state = 42)\n",
    "print(X_train.shape, Y_train.shape)\n",
    "print(X_test.shape, Y_test.shape)"
   ]
  },
  {
   "cell_type": "code",
   "execution_count": 66,
   "id": "fe957623",
   "metadata": {},
   "outputs": [],
   "source": [
    "MAX_NB_WORDS = 20000\n",
    "EMBEDDING_DIM = 100\n",
    "\n",
    "model = Sequential()\n",
    "model.add(Embedding(MAX_NB_WORDS, EMBEDDING_DIM, input_length=X.shape[1]))\n",
    "model.add(SpatialDropout1D(0.2))\n",
    "model.add(LSTM(100, dropout=0.2, recurrent_dropout=0.2))\n",
    "model.add(Dense(Y.shape[1], activation='softmax'))\n",
    "model.compile(loss='categorical_crossentropy', optimizer='adam', metrics=['accuracy'])"
   ]
  },
  {
   "cell_type": "code",
   "execution_count": 67,
   "id": "3a8a6e14",
   "metadata": {},
   "outputs": [
    {
     "name": "stdout",
     "output_type": "stream",
     "text": [
      "Epoch 1/100\n",
      "39/39 [==============================] - 2s 56ms/step - loss: 1.2994 - accuracy: 0.3655 - val_loss: 0.9916 - val_accuracy: 0.6960\n",
      "Epoch 2/100\n",
      "39/39 [==============================] - 2s 45ms/step - loss: 0.5964 - accuracy: 0.8024 - val_loss: 0.4255 - val_accuracy: 0.8571\n",
      "Epoch 3/100\n",
      "39/39 [==============================] - 2s 46ms/step - loss: 0.1800 - accuracy: 0.9432 - val_loss: 0.3538 - val_accuracy: 0.8755\n",
      "Epoch 4/100\n",
      "39/39 [==============================] - 2s 49ms/step - loss: 0.0750 - accuracy: 0.9792 - val_loss: 0.4451 - val_accuracy: 0.8645\n",
      "Epoch 5/100\n",
      "39/39 [==============================] - 2s 45ms/step - loss: 0.0524 - accuracy: 0.9886 - val_loss: 0.5182 - val_accuracy: 0.8571\n",
      "Epoch 6/100\n",
      "39/39 [==============================] - 2s 45ms/step - loss: 0.0368 - accuracy: 0.9918 - val_loss: 0.5234 - val_accuracy: 0.8425\n",
      "Epoch 7/100\n",
      "39/39 [==============================] - 2s 45ms/step - loss: 0.0140 - accuracy: 0.9971 - val_loss: 0.5385 - val_accuracy: 0.8608\n",
      "Epoch 8/100\n",
      "39/39 [==============================] - 2s 44ms/step - loss: 0.0150 - accuracy: 0.9967 - val_loss: 0.4841 - val_accuracy: 0.8645\n",
      "Epoch 9/100\n",
      "39/39 [==============================] - 2s 48ms/step - loss: 0.0085 - accuracy: 0.9984 - val_loss: 0.5800 - val_accuracy: 0.8645\n",
      "Epoch 10/100\n",
      "39/39 [==============================] - 2s 45ms/step - loss: 0.0093 - accuracy: 0.9988 - val_loss: 0.6251 - val_accuracy: 0.8645\n",
      "Epoch 11/100\n",
      "39/39 [==============================] - 2s 45ms/step - loss: 0.0054 - accuracy: 0.9992 - val_loss: 0.6361 - val_accuracy: 0.8681\n",
      "Epoch 12/100\n",
      "39/39 [==============================] - 2s 44ms/step - loss: 0.0069 - accuracy: 0.9992 - val_loss: 0.6469 - val_accuracy: 0.8498\n",
      "Epoch 13/100\n",
      "39/39 [==============================] - 2s 44ms/step - loss: 0.0018 - accuracy: 1.0000 - val_loss: 0.6139 - val_accuracy: 0.8571\n",
      "Epoch 14/100\n",
      "39/39 [==============================] - 2s 46ms/step - loss: 0.0025 - accuracy: 0.9996 - val_loss: 0.6747 - val_accuracy: 0.8535\n",
      "Epoch 15/100\n",
      "39/39 [==============================] - 2s 46ms/step - loss: 0.0088 - accuracy: 0.9963 - val_loss: 0.5745 - val_accuracy: 0.8571\n",
      "Epoch 16/100\n",
      "39/39 [==============================] - 2s 46ms/step - loss: 0.0045 - accuracy: 0.9992 - val_loss: 0.6159 - val_accuracy: 0.8608\n",
      "Epoch 17/100\n",
      "39/39 [==============================] - 2s 44ms/step - loss: 0.0010 - accuracy: 1.0000 - val_loss: 0.7174 - val_accuracy: 0.8425\n",
      "Epoch 18/100\n",
      "39/39 [==============================] - 2s 44ms/step - loss: 0.0082 - accuracy: 0.9976 - val_loss: 0.5396 - val_accuracy: 0.8645\n",
      "Epoch 19/100\n",
      "39/39 [==============================] - 2s 45ms/step - loss: 0.0093 - accuracy: 0.9971 - val_loss: 0.4680 - val_accuracy: 0.8755\n",
      "Epoch 20/100\n",
      "39/39 [==============================] - 2s 43ms/step - loss: 0.0031 - accuracy: 0.9996 - val_loss: 0.5680 - val_accuracy: 0.8681\n",
      "Epoch 21/100\n",
      "39/39 [==============================] - 2s 44ms/step - loss: 0.0021 - accuracy: 0.9996 - val_loss: 0.5474 - val_accuracy: 0.8681\n",
      "Epoch 22/100\n",
      "39/39 [==============================] - 2s 44ms/step - loss: 3.3974e-04 - accuracy: 1.0000 - val_loss: 0.5731 - val_accuracy: 0.8791\n",
      "Epoch 23/100\n",
      "39/39 [==============================] - 2s 44ms/step - loss: 0.0047 - accuracy: 0.9988 - val_loss: 0.5098 - val_accuracy: 0.8974\n",
      "Epoch 24/100\n",
      "39/39 [==============================] - 2s 42ms/step - loss: 0.0050 - accuracy: 0.9992 - val_loss: 0.5505 - val_accuracy: 0.8755\n",
      "Epoch 25/100\n",
      "39/39 [==============================] - 2s 43ms/step - loss: 0.0055 - accuracy: 0.9996 - val_loss: 0.5219 - val_accuracy: 0.8645\n",
      "Epoch 26/100\n",
      "39/39 [==============================] - 2s 42ms/step - loss: 5.6579e-04 - accuracy: 1.0000 - val_loss: 0.5583 - val_accuracy: 0.8681\n",
      "Epoch 27/100\n",
      "39/39 [==============================] - 2s 43ms/step - loss: 0.0022 - accuracy: 0.9992 - val_loss: 0.5985 - val_accuracy: 0.8608\n",
      "Epoch 28/100\n",
      "39/39 [==============================] - 2s 46ms/step - loss: 0.0070 - accuracy: 0.9980 - val_loss: 0.4397 - val_accuracy: 0.8864\n",
      "Epoch 29/100\n",
      "39/39 [==============================] - 2s 44ms/step - loss: 0.0021 - accuracy: 0.9996 - val_loss: 0.4673 - val_accuracy: 0.8864\n",
      "Epoch 30/100\n",
      "39/39 [==============================] - 2s 47ms/step - loss: 5.6807e-04 - accuracy: 1.0000 - val_loss: 0.4925 - val_accuracy: 0.8901\n",
      "Epoch 31/100\n",
      "39/39 [==============================] - 2s 43ms/step - loss: 3.6735e-04 - accuracy: 1.0000 - val_loss: 0.5257 - val_accuracy: 0.8828\n",
      "Epoch 32/100\n",
      "39/39 [==============================] - 2s 43ms/step - loss: 3.7280e-04 - accuracy: 1.0000 - val_loss: 0.5438 - val_accuracy: 0.8755\n",
      "Epoch 33/100\n",
      "39/39 [==============================] - 2s 43ms/step - loss: 3.6911e-04 - accuracy: 1.0000 - val_loss: 0.5638 - val_accuracy: 0.8828\n",
      "Epoch 34/100\n",
      "39/39 [==============================] - 2s 43ms/step - loss: 2.7227e-04 - accuracy: 1.0000 - val_loss: 0.5775 - val_accuracy: 0.8791\n",
      "Epoch 35/100\n",
      "39/39 [==============================] - 2s 43ms/step - loss: 1.7502e-04 - accuracy: 1.0000 - val_loss: 0.6061 - val_accuracy: 0.8791\n",
      "Epoch 36/100\n",
      "39/39 [==============================] - 2s 42ms/step - loss: 1.5175e-04 - accuracy: 1.0000 - val_loss: 0.6156 - val_accuracy: 0.8791\n",
      "Epoch 37/100\n",
      "39/39 [==============================] - 2s 42ms/step - loss: 1.0474e-04 - accuracy: 1.0000 - val_loss: 0.6343 - val_accuracy: 0.8791\n",
      "Epoch 38/100\n",
      "39/39 [==============================] - 2s 42ms/step - loss: 7.6524e-05 - accuracy: 1.0000 - val_loss: 0.6510 - val_accuracy: 0.8791\n",
      "Epoch 39/100\n",
      "39/39 [==============================] - 2s 42ms/step - loss: 1.1331e-04 - accuracy: 1.0000 - val_loss: 0.6640 - val_accuracy: 0.8755\n",
      "Epoch 40/100\n",
      "39/39 [==============================] - 2s 42ms/step - loss: 7.3665e-05 - accuracy: 1.0000 - val_loss: 0.6700 - val_accuracy: 0.8755\n",
      "Epoch 41/100\n",
      "39/39 [==============================] - 2s 42ms/step - loss: 5.5931e-05 - accuracy: 1.0000 - val_loss: 0.6767 - val_accuracy: 0.8755\n",
      "Epoch 42/100\n",
      "39/39 [==============================] - 2s 42ms/step - loss: 1.0081e-04 - accuracy: 1.0000 - val_loss: 0.6902 - val_accuracy: 0.8718\n",
      "Epoch 43/100\n",
      "39/39 [==============================] - 2s 42ms/step - loss: 6.9374e-05 - accuracy: 1.0000 - val_loss: 0.6978 - val_accuracy: 0.8681\n",
      "Epoch 44/100\n",
      "39/39 [==============================] - 2s 42ms/step - loss: 5.0822e-05 - accuracy: 1.0000 - val_loss: 0.7060 - val_accuracy: 0.8681\n",
      "Epoch 45/100\n",
      "39/39 [==============================] - 2s 42ms/step - loss: 0.0045 - accuracy: 0.9984 - val_loss: 0.6122 - val_accuracy: 0.8791\n",
      "Epoch 46/100\n",
      "39/39 [==============================] - 2s 42ms/step - loss: 0.0145 - accuracy: 0.9971 - val_loss: 0.5014 - val_accuracy: 0.8974\n",
      "Epoch 47/100\n",
      "39/39 [==============================] - 2s 42ms/step - loss: 0.0095 - accuracy: 0.9980 - val_loss: 0.4343 - val_accuracy: 0.8864\n",
      "Epoch 48/100\n",
      "39/39 [==============================] - 2s 44ms/step - loss: 0.0072 - accuracy: 0.9992 - val_loss: 0.5740 - val_accuracy: 0.8681\n",
      "Epoch 49/100\n",
      "39/39 [==============================] - 2s 43ms/step - loss: 0.0018 - accuracy: 1.0000 - val_loss: 0.4939 - val_accuracy: 0.8864\n",
      "Epoch 50/100\n",
      "39/39 [==============================] - 2s 42ms/step - loss: 3.8930e-04 - accuracy: 1.0000 - val_loss: 0.5182 - val_accuracy: 0.8791\n",
      "Epoch 51/100\n",
      "39/39 [==============================] - 2s 42ms/step - loss: 1.8435e-04 - accuracy: 1.0000 - val_loss: 0.5429 - val_accuracy: 0.8718\n",
      "Epoch 52/100\n",
      "39/39 [==============================] - 2s 43ms/step - loss: 1.8805e-04 - accuracy: 1.0000 - val_loss: 0.5931 - val_accuracy: 0.8681\n",
      "Epoch 53/100\n",
      "39/39 [==============================] - 2s 42ms/step - loss: 1.2002e-04 - accuracy: 1.0000 - val_loss: 0.6050 - val_accuracy: 0.8681\n",
      "Epoch 54/100\n",
      "39/39 [==============================] - 2s 43ms/step - loss: 1.2988e-04 - accuracy: 1.0000 - val_loss: 0.6245 - val_accuracy: 0.8681\n",
      "Epoch 55/100\n",
      "39/39 [==============================] - 2s 42ms/step - loss: 9.2595e-05 - accuracy: 1.0000 - val_loss: 0.6405 - val_accuracy: 0.8645\n",
      "Epoch 56/100\n",
      "39/39 [==============================] - 2s 43ms/step - loss: 1.8579e-04 - accuracy: 1.0000 - val_loss: 0.6308 - val_accuracy: 0.8681\n",
      "Epoch 57/100\n"
     ]
    },
    {
     "name": "stdout",
     "output_type": "stream",
     "text": [
      "39/39 [==============================] - 2s 47ms/step - loss: 2.0212e-04 - accuracy: 1.0000 - val_loss: 0.6657 - val_accuracy: 0.8645\n",
      "Epoch 58/100\n",
      "39/39 [==============================] - 2s 42ms/step - loss: 9.4536e-04 - accuracy: 0.9996 - val_loss: 0.6624 - val_accuracy: 0.8791\n",
      "Epoch 59/100\n",
      "39/39 [==============================] - 2s 42ms/step - loss: 1.8838e-04 - accuracy: 1.0000 - val_loss: 0.6456 - val_accuracy: 0.8681\n",
      "Epoch 60/100\n",
      "39/39 [==============================] - 2s 42ms/step - loss: 0.0014 - accuracy: 0.9996 - val_loss: 0.5576 - val_accuracy: 0.9011\n",
      "Epoch 61/100\n",
      "39/39 [==============================] - 2s 42ms/step - loss: 3.0240e-04 - accuracy: 1.0000 - val_loss: 0.5911 - val_accuracy: 0.8864\n",
      "Epoch 62/100\n",
      "39/39 [==============================] - 2s 42ms/step - loss: 1.2686e-04 - accuracy: 1.0000 - val_loss: 0.6338 - val_accuracy: 0.8755\n",
      "Epoch 63/100\n",
      "39/39 [==============================] - 2s 42ms/step - loss: 6.9131e-05 - accuracy: 1.0000 - val_loss: 0.6442 - val_accuracy: 0.8755\n",
      "Epoch 64/100\n",
      "39/39 [==============================] - 2s 42ms/step - loss: 5.5407e-05 - accuracy: 1.0000 - val_loss: 0.6545 - val_accuracy: 0.8791\n",
      "Epoch 65/100\n",
      "39/39 [==============================] - 2s 42ms/step - loss: 5.8661e-05 - accuracy: 1.0000 - val_loss: 0.6621 - val_accuracy: 0.8791\n",
      "Epoch 66/100\n",
      "39/39 [==============================] - 2s 42ms/step - loss: 4.1313e-05 - accuracy: 1.0000 - val_loss: 0.6715 - val_accuracy: 0.8791\n",
      "Epoch 67/100\n",
      "39/39 [==============================] - 2s 42ms/step - loss: 5.4151e-05 - accuracy: 1.0000 - val_loss: 0.6817 - val_accuracy: 0.8791\n",
      "Epoch 68/100\n",
      "39/39 [==============================] - 2s 41ms/step - loss: 1.2859e-04 - accuracy: 1.0000 - val_loss: 0.5859 - val_accuracy: 0.8864\n",
      "Epoch 69/100\n",
      "39/39 [==============================] - 2s 44ms/step - loss: 2.0769e-04 - accuracy: 1.0000 - val_loss: 0.6276 - val_accuracy: 0.8755\n",
      "Epoch 70/100\n",
      "39/39 [==============================] - 2s 47ms/step - loss: 2.1005e-04 - accuracy: 1.0000 - val_loss: 0.7185 - val_accuracy: 0.8645\n",
      "Epoch 71/100\n",
      "39/39 [==============================] - 2s 45ms/step - loss: 5.6545e-04 - accuracy: 0.9996 - val_loss: 0.5928 - val_accuracy: 0.8535\n",
      "Epoch 72/100\n",
      "39/39 [==============================] - 2s 42ms/step - loss: 9.7929e-04 - accuracy: 0.9996 - val_loss: 0.6252 - val_accuracy: 0.8755\n",
      "Epoch 73/100\n",
      "39/39 [==============================] - 2s 42ms/step - loss: 0.0079 - accuracy: 0.9984 - val_loss: 0.6599 - val_accuracy: 0.8718\n",
      "Epoch 74/100\n",
      "39/39 [==============================] - 2s 42ms/step - loss: 0.0074 - accuracy: 0.9984 - val_loss: 0.6442 - val_accuracy: 0.8901\n",
      "Epoch 75/100\n",
      "39/39 [==============================] - 2s 42ms/step - loss: 0.0088 - accuracy: 0.9971 - val_loss: 0.4859 - val_accuracy: 0.8974\n",
      "Epoch 76/100\n",
      "39/39 [==============================] - 2s 47ms/step - loss: 7.7756e-04 - accuracy: 1.0000 - val_loss: 0.5388 - val_accuracy: 0.8901\n",
      "Epoch 77/100\n",
      "39/39 [==============================] - 2s 47ms/step - loss: 3.1245e-04 - accuracy: 1.0000 - val_loss: 0.5003 - val_accuracy: 0.8901\n",
      "Epoch 78/100\n",
      "39/39 [==============================] - 2s 45ms/step - loss: 0.0056 - accuracy: 0.9992 - val_loss: 0.4014 - val_accuracy: 0.8938\n",
      "Epoch 79/100\n",
      "39/39 [==============================] - 2s 46ms/step - loss: 4.8902e-04 - accuracy: 1.0000 - val_loss: 0.4510 - val_accuracy: 0.9084\n",
      "Epoch 80/100\n",
      "39/39 [==============================] - 2s 44ms/step - loss: 2.3352e-04 - accuracy: 1.0000 - val_loss: 0.4720 - val_accuracy: 0.9084\n",
      "Epoch 81/100\n",
      "39/39 [==============================] - 2s 46ms/step - loss: 2.8216e-04 - accuracy: 1.0000 - val_loss: 0.5030 - val_accuracy: 0.9084\n",
      "Epoch 82/100\n",
      "39/39 [==============================] - 2s 42ms/step - loss: 2.6320e-04 - accuracy: 1.0000 - val_loss: 0.5009 - val_accuracy: 0.9048\n",
      "Epoch 83/100\n",
      "39/39 [==============================] - 2s 42ms/step - loss: 8.1311e-05 - accuracy: 1.0000 - val_loss: 0.5118 - val_accuracy: 0.9048\n",
      "Epoch 84/100\n",
      "39/39 [==============================] - 2s 42ms/step - loss: 8.1815e-05 - accuracy: 1.0000 - val_loss: 0.5208 - val_accuracy: 0.9011\n",
      "Epoch 85/100\n",
      "39/39 [==============================] - 2s 41ms/step - loss: 6.3015e-05 - accuracy: 1.0000 - val_loss: 0.5292 - val_accuracy: 0.9011\n",
      "Epoch 86/100\n",
      "39/39 [==============================] - 2s 42ms/step - loss: 6.9384e-05 - accuracy: 1.0000 - val_loss: 0.5378 - val_accuracy: 0.9048\n",
      "Epoch 87/100\n",
      "39/39 [==============================] - 2s 42ms/step - loss: 5.4495e-05 - accuracy: 1.0000 - val_loss: 0.5479 - val_accuracy: 0.9048\n",
      "Epoch 88/100\n",
      "39/39 [==============================] - 2s 42ms/step - loss: 3.4899e-05 - accuracy: 1.0000 - val_loss: 0.5539 - val_accuracy: 0.9048\n",
      "Epoch 89/100\n",
      "39/39 [==============================] - 2s 43ms/step - loss: 3.6740e-05 - accuracy: 1.0000 - val_loss: 0.5596 - val_accuracy: 0.9048\n",
      "Epoch 90/100\n",
      "39/39 [==============================] - 2s 42ms/step - loss: 4.1079e-05 - accuracy: 1.0000 - val_loss: 0.5659 - val_accuracy: 0.9048\n",
      "Epoch 91/100\n",
      "39/39 [==============================] - 2s 42ms/step - loss: 2.8779e-05 - accuracy: 1.0000 - val_loss: 0.5726 - val_accuracy: 0.9048\n",
      "Epoch 92/100\n",
      "39/39 [==============================] - 2s 42ms/step - loss: 4.0883e-05 - accuracy: 1.0000 - val_loss: 0.5739 - val_accuracy: 0.9048\n",
      "Epoch 93/100\n",
      "39/39 [==============================] - 2s 42ms/step - loss: 3.0202e-05 - accuracy: 1.0000 - val_loss: 0.5801 - val_accuracy: 0.9011\n",
      "Epoch 94/100\n",
      "39/39 [==============================] - 2s 42ms/step - loss: 3.1659e-05 - accuracy: 1.0000 - val_loss: 0.5872 - val_accuracy: 0.8974\n",
      "Epoch 95/100\n",
      "39/39 [==============================] - 2s 42ms/step - loss: 7.0984e-05 - accuracy: 1.0000 - val_loss: 0.5975 - val_accuracy: 0.8974\n",
      "Epoch 96/100\n",
      "39/39 [==============================] - 2s 42ms/step - loss: 2.1307e-05 - accuracy: 1.0000 - val_loss: 0.6031 - val_accuracy: 0.8974\n",
      "Epoch 97/100\n",
      "39/39 [==============================] - 2s 42ms/step - loss: 2.3436e-05 - accuracy: 1.0000 - val_loss: 0.6062 - val_accuracy: 0.8974\n",
      "Epoch 98/100\n",
      "39/39 [==============================] - 2s 42ms/step - loss: 1.8621e-05 - accuracy: 1.0000 - val_loss: 0.6094 - val_accuracy: 0.8974\n",
      "Epoch 99/100\n",
      "39/39 [==============================] - 2s 42ms/step - loss: 1.6990e-05 - accuracy: 1.0000 - val_loss: 0.6147 - val_accuracy: 0.8974\n",
      "Epoch 100/100\n",
      "39/39 [==============================] - 2s 42ms/step - loss: 2.5375e-05 - accuracy: 1.0000 - val_loss: 0.6174 - val_accuracy: 0.8974\n"
     ]
    }
   ],
   "source": [
    "epochs = 100\n",
    "batch_size = 64\n",
    "\n",
    "history = model.fit(X_train, Y_train, epochs=epochs, batch_size=batch_size,\n",
    "                    validation_split=0.1,\n",
    "#                     callbacks=[EarlyStopping(monitor='val_loss', patience=3, min_delta=0.0001)]\n",
    ")"
   ]
  },
  {
   "cell_type": "code",
   "execution_count": 68,
   "id": "baa450e0",
   "metadata": {},
   "outputs": [
    {
     "name": "stdout",
     "output_type": "stream",
     "text": [
      "22/22 [==============================] - 0s 8ms/step - loss: 0.6109 - accuracy: 0.8899\n"
     ]
    },
    {
     "data": {
      "text/plain": [
       "[0.6108688116073608, 0.8898678421974182]"
      ]
     },
     "execution_count": 68,
     "metadata": {},
     "output_type": "execute_result"
    }
   ],
   "source": [
    "# Evaluate the model\n",
    "model.evaluate(X_test, Y_test)"
   ]
  },
  {
   "cell_type": "code",
   "execution_count": 69,
   "id": "0442f130",
   "metadata": {},
   "outputs": [
    {
     "name": "stdout",
     "output_type": "stream",
     "text": [
      "INFO:tensorflow:Assets written to: saved_model\\assets\n"
     ]
    }
   ],
   "source": [
    "from tensorflow import keras\n",
    "import pickle\n",
    "\n",
    "model.save('saved_model')\n",
    "with open('tokenizer.pickle', 'wb') as handle:\n",
    "    pickle.dump(tokenizer, handle, protocol=pickle.HIGHEST_PROTOCOL)"
   ]
  },
  {
   "cell_type": "code",
   "execution_count": 125,
   "id": "06df737d",
   "metadata": {},
   "outputs": [],
   "source": [
    "# END"
   ]
  },
  {
   "cell_type": "code",
   "execution_count": null,
   "id": "3345c66b",
   "metadata": {},
   "outputs": [],
   "source": []
  },
  {
   "cell_type": "code",
   "execution_count": null,
   "id": "0b6e233a",
   "metadata": {},
   "outputs": [],
   "source": []
  },
  {
   "cell_type": "code",
   "execution_count": null,
   "id": "b91b067b",
   "metadata": {},
   "outputs": [],
   "source": [
    "# plt.title('Loss')\n",
    "# plt.plot(history.history['loss'], label='train')\n",
    "# plt.plot(history.history['val_loss'], label='test')\n",
    "# plt.legend()\n",
    "# plt.show();"
   ]
  },
  {
   "cell_type": "code",
   "execution_count": null,
   "id": "1c082a05",
   "metadata": {},
   "outputs": [],
   "source": [
    "# from keras.preprocessing.sequence import pad_sequences\n",
    "# X = pad_sequences(X_sequences, maxlen=sequence_len)\n",
    "# print(X.shape)"
   ]
  },
  {
   "cell_type": "code",
   "execution_count": null,
   "id": "046f0f9b",
   "metadata": {},
   "outputs": [],
   "source": [
    "# sequence_len = 20\n",
    "# X_corpus = []\n",
    "# y_corpus = []\n",
    "\n",
    "# for i in range(len(df['Text'])):\n",
    "#     text = df['Text'][i].split()\n",
    "#     num_sequences = len(text) // sequence_len\n",
    "    \n",
    "#     for j in range(num_sequences):\n",
    "#         start = sequence_len * j\n",
    "#         end = sequence_len * (j + 1)\n",
    "#         X_corpus.append(' '.join(text[start:end]))\n",
    "#         y_corpus.append(df['Category'][i])\n",
    "\n",
    "# from keras.preprocessing.text import Tokenizer\n",
    "# max_words = 10000\n",
    "# tokenizer = Tokenizer(num_words=max_words)\n",
    "# tokenizer.fit_on_texts(X_corpus)\n",
    "# X_sequences = tokenizer.texts_to_sequences(X_corpus)"
   ]
  }
 ],
 "metadata": {
  "kernelspec": {
   "display_name": "Python 3",
   "language": "python",
   "name": "python3"
  },
  "language_info": {
   "codemirror_mode": {
    "name": "ipython",
    "version": 3
   },
   "file_extension": ".py",
   "mimetype": "text/x-python",
   "name": "python",
   "nbconvert_exporter": "python",
   "pygments_lexer": "ipython3",
   "version": "3.8.5"
  }
 },
 "nbformat": 4,
 "nbformat_minor": 5
}
