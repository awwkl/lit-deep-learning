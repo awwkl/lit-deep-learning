{
 "cells": [
  {
   "cell_type": "code",
   "execution_count": 89,
   "id": "10d7e5e2",
   "metadata": {},
   "outputs": [],
   "source": [
    "import numpy as np\n",
    "import pandas as pd\n",
    "import tensorflow as tf\n",
    "import pickle\n",
    "import tensorflow\n",
    "from tensorflow import keras\n",
    "from tensorflow.keras.preprocessing.sequence import pad_sequences"
   ]
  },
  {
   "cell_type": "code",
   "execution_count": 90,
   "id": "ca9ca255",
   "metadata": {},
   "outputs": [],
   "source": [
    "model = keras.models.load_model('saved_model')\n",
    "with open('tokenizer.pickle', 'rb') as handle:\n",
    "    tokenizer = pickle.load(handle)"
   ]
  },
  {
   "cell_type": "code",
   "execution_count": 101,
   "id": "a34d45cf",
   "metadata": {},
   "outputs": [],
   "source": [
    "sequence_len = 15\n",
    "def model_predict(sentence):\n",
    "    print('A:', sentence)\n",
    "    sequence = tokenizer.texts_to_sequences( [sentence] )[0]\n",
    "    print('B:', sequence)\n",
    "\n",
    "    if len(sequence) < 20:\n",
    "        sequence = [0] * (20 - len(sequence)) + sequence\n",
    "    \n",
    "    sequences = []\n",
    "    num_sequences = len(sequence) // sequence_len\n",
    "    \n",
    "    for i in range(num_sequences):\n",
    "        start = sequence_len * i\n",
    "        end = sequence_len * (i + 1)\n",
    "        sequences.append(sequence[start:end])\n",
    "    \n",
    "    print(sequences)\n",
    "    y_prob = model.predict(sequences)\n",
    "    y_avg_prob = pd.Series(np.average(y_prob, axis=0))\n",
    "    \n",
    "    y_pred = np.argmax(y_avg_prob, axis=-1)\n",
    "    return y_pred, y_avg_prob"
   ]
  },
  {
   "cell_type": "code",
   "execution_count": 104,
   "id": "ffc6da50",
   "metadata": {
    "scrolled": true
   },
   "outputs": [
    {
     "name": "stdout",
     "output_type": "stream",
     "text": [
      "{0: 'Corporate', 1: 'Criminal', 2: 'Divorce', 3: 'Legal_Procedures'}\n"
     ]
    }
   ],
   "source": [
    "Y_columns = ['Corporate', 'Criminal', 'Divorce', 'Legal_Procedures']\n",
    "Y_columns = sorted(Y_columns)\n",
    "map_idx_to_category = { i: Y_columns[i] for i in range(len(Y_columns)) }\n",
    "print(map_idx_to_category)"
   ]
  },
  {
   "cell_type": "code",
   "execution_count": 107,
   "id": "b99abb6a",
   "metadata": {},
   "outputs": [
    {
     "name": "stdout",
     "output_type": "stream",
     "text": [
      "A: In Singapore, How do I register a business\n",
      "B: [8, 23, 49, 52, 137, 200, 4, 21]\n",
      "[[0, 0, 0, 0, 0, 0, 0, 0, 0, 0, 0, 0, 8, 23, 49]]\n",
      "0 : Corporate\n",
      "y_prob 0    0.657407\n",
      "1    0.234810\n",
      "2    0.057749\n",
      "3    0.050034\n",
      "dtype: float32\n"
     ]
    }
   ],
   "source": [
    "test_sentences = [\n",
    "    'In Singapore, How do I register a business',\n",
    "    'As more ultra-high-net-worth (UHNW) families turn to family offices, family offices have established themselves as a popular',\n",
    "    'Falling out of love can be a far more painful thing than trying to fall in love. Sometimes, you may need to spend some time apart',\n",
    "    'If you are being investigated or charged with a criminal offence in Singapore, you may wish to send a letter of representation to the Attorney General’s Chambers (AGC).',\n",
    "    'A title deed is a document for registered properties in Singapore that exhaustively records all transactions regarding',\n",
    "]\n",
    "\n",
    "y_pred, y_prob = model_predict(test_sentences[0])\n",
    "print(y_pred, ':', map_idx_to_category[y_pred])\n",
    "print('y_prob', y_prob)"
   ]
  },
  {
   "cell_type": "code",
   "execution_count": null,
   "id": "5be12a48",
   "metadata": {},
   "outputs": [],
   "source": []
  },
  {
   "cell_type": "code",
   "execution_count": null,
   "id": "6eb8c4b3",
   "metadata": {},
   "outputs": [],
   "source": []
  }
 ],
 "metadata": {
  "kernelspec": {
   "display_name": "Python 3",
   "language": "python",
   "name": "python3"
  },
  "language_info": {
   "codemirror_mode": {
    "name": "ipython",
    "version": 3
   },
   "file_extension": ".py",
   "mimetype": "text/x-python",
   "name": "python",
   "nbconvert_exporter": "python",
   "pygments_lexer": "ipython3",
   "version": "3.8.5"
  }
 },
 "nbformat": 4,
 "nbformat_minor": 5
}
