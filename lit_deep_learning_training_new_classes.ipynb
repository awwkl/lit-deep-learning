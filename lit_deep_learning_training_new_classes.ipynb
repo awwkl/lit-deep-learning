{
 "cells": [
  {
   "cell_type": "code",
   "execution_count": null,
   "id": "a03cb020",
   "metadata": {},
   "outputs": [],
   "source": [
    "import numpy as np\n",
    "import pandas as pd\n",
    "import tensorflow as tf\n",
    "import matplotlib.pyplot as plt\n",
    "from tensorflow.keras.layers import Embedding,Bidirectional,GRU,LSTM,Dense,Dropout,SpatialDropout1D\n",
    "from tensorflow.keras.preprocessing.sequence import pad_sequences\n",
    "from tensorflow.keras.models import Sequential\n",
    "from tensorflow.keras.preprocessing.text import one_hot\n",
    "from tensorflow.keras.callbacks import EarlyStopping\n",
    "from keras.preprocessing.text import Tokenizer"
   ]
  },
  {
   "cell_type": "code",
   "execution_count": null,
   "id": "29cfc1d8",
   "metadata": {
    "scrolled": true
   },
   "outputs": [],
   "source": [
    "df = pd.read_csv('train.csv')"
   ]
  },
  {
   "cell_type": "code",
   "execution_count": null,
   "id": "1e1ad8de",
   "metadata": {},
   "outputs": [],
   "source": [
    "import re\n",
    "from nltk.stem.porter import PorterStemmer\n",
    "ps = PorterStemmer()\n",
    "\n",
    "X_processed = []\n",
    "for text in df['Text']:\n",
    "    text = re.sub('[^a-zA-Z]', ' ', text)\n",
    "    text = text.lower()\n",
    "    text = text.split()\n",
    "    text = [ps.stem(word) for word in text]\n",
    "    text = ' '.join(text)\n",
    "    X_processed.append(text)"
   ]
  },
  {
   "cell_type": "code",
   "execution_count": null,
   "id": "8310b167",
   "metadata": {},
   "outputs": [],
   "source": [
    "max_words = 20000\n",
    "tokenizer = Tokenizer(num_words=max_words)\n",
    "tokenizer.fit_on_texts(X_processed)\n",
    "X_sequences = tokenizer.texts_to_sequences(X_processed)"
   ]
  },
  {
   "cell_type": "code",
   "execution_count": null,
   "id": "d22a275b",
   "metadata": {},
   "outputs": [],
   "source": [
    "tokenizer_index_len = len(tokenizer.word_index)\n",
    "print(tokenizer_index_len)"
   ]
  },
  {
   "cell_type": "code",
   "execution_count": null,
   "id": "b7875901",
   "metadata": {},
   "outputs": [],
   "source": [
    "sequence_len = 20\n",
    "X = []\n",
    "y_corpus = []\n",
    "\n",
    "for i in range(len(X_sequences)):\n",
    "    num_sequences = len(X_sequences[i]) // sequence_len\n",
    "    \n",
    "    for j in range(num_sequences):\n",
    "        start = sequence_len * j\n",
    "        end = sequence_len * (j + 1)\n",
    "        X.append(X_sequences[i][start:end])\n",
    "        y_corpus.append(df['Category'][i])"
   ]
  },
  {
   "cell_type": "code",
   "execution_count": null,
   "id": "903f9944",
   "metadata": {
    "scrolled": true
   },
   "outputs": [],
   "source": [
    "X = pd.DataFrame(X)\n",
    "\n",
    "Y = pd.get_dummies(pd.Series(y_corpus))\n",
    "Y = Y[ sorted(Y.columns) ]\n",
    "\n",
    "print(X.shape)\n",
    "print(Y.shape)"
   ]
  },
  {
   "cell_type": "code",
   "execution_count": null,
   "id": "b65e2777",
   "metadata": {},
   "outputs": [],
   "source": [
    "print(list(Y.columns))"
   ]
  },
  {
   "cell_type": "code",
   "execution_count": null,
   "id": "e1281544",
   "metadata": {
    "scrolled": false
   },
   "outputs": [],
   "source": [
    "from sklearn.model_selection import train_test_split\n",
    "X_train, X_test, Y_train, Y_test = train_test_split(X, Y, test_size = 0.10, random_state = 42)\n",
    "print(X_train.shape, Y_train.shape)\n",
    "print(X_test.shape, Y_test.shape)"
   ]
  },
  {
   "cell_type": "code",
   "execution_count": null,
   "id": "fe957623",
   "metadata": {},
   "outputs": [],
   "source": [
    "MAX_NB_WORDS = tokenizer_index_len + 1\n",
    "EMBEDDING_DIM = 100\n",
    "\n",
    "model = Sequential()\n",
    "model.add(Embedding(MAX_NB_WORDS, EMBEDDING_DIM, input_length=X.shape[1]))\n",
    "model.add(SpatialDropout1D(0.2))\n",
    "# model.add(LSTM(100, dropout=0.2, recurrent_dropout=0.2))\n",
    "# model.add(GRU(100, dropout=0.2, recurrent_dropout=0.2))\n",
    "model.add(Bidirectional(GRU(100, dropout=0.2, recurrent_dropout=0.2)))\n",
    "# model.add(Dropout(0.2))\n",
    "model.add(Dense(Y.shape[1], activation='softmax'))\n",
    "model.compile(loss='categorical_crossentropy', optimizer='adam', \n",
    "              metrics=['accuracy', tf.keras.metrics.TopKCategoricalAccuracy(k=2)])"
   ]
  },
  {
   "cell_type": "code",
   "execution_count": null,
   "id": "3a8a6e14",
   "metadata": {},
   "outputs": [],
   "source": [
    "epochs = 100\n",
    "batch_size = 32\n",
    "\n",
    "history = model.fit(X_train, Y_train, epochs=epochs, batch_size=batch_size,\n",
    "                    validation_split=0.1,\n",
    "                    callbacks=[EarlyStopping(monitor='val_loss', patience=3, min_delta=0.0001)]\n",
    ")"
   ]
  },
  {
   "cell_type": "code",
   "execution_count": null,
   "id": "baa450e0",
   "metadata": {},
   "outputs": [],
   "source": [
    "# Evaluate the model\n",
    "model.evaluate(X_test, Y_test)"
   ]
  },
  {
   "cell_type": "code",
   "execution_count": null,
   "id": "0442f130",
   "metadata": {},
   "outputs": [],
   "source": [
    "from tensorflow import keras\n",
    "import pickle\n",
    "\n",
    "model.save('saved_model')\n",
    "with open('tokenizer.pickle', 'wb') as handle:\n",
    "    pickle.dump(tokenizer, handle, protocol=pickle.HIGHEST_PROTOCOL)"
   ]
  },
  {
   "cell_type": "code",
   "execution_count": null,
   "id": "06df737d",
   "metadata": {},
   "outputs": [],
   "source": [
    "# END"
   ]
  },
  {
   "cell_type": "code",
   "execution_count": null,
   "id": "3345c66b",
   "metadata": {},
   "outputs": [],
   "source": []
  },
  {
   "cell_type": "code",
   "execution_count": null,
   "id": "0b6e233a",
   "metadata": {},
   "outputs": [],
   "source": []
  },
  {
   "cell_type": "code",
   "execution_count": null,
   "id": "b91b067b",
   "metadata": {},
   "outputs": [],
   "source": [
    "# plt.title('Loss')\n",
    "# plt.plot(history.history['loss'], label='train')\n",
    "# plt.plot(history.history['val_loss'], label='test')\n",
    "# plt.legend()\n",
    "# plt.show();"
   ]
  },
  {
   "cell_type": "code",
   "execution_count": null,
   "id": "1c082a05",
   "metadata": {},
   "outputs": [],
   "source": [
    "# from keras.preprocessing.sequence import pad_sequences\n",
    "# X = pad_sequences(X_sequences, maxlen=sequence_len)\n",
    "# print(X.shape)"
   ]
  },
  {
   "cell_type": "code",
   "execution_count": null,
   "id": "046f0f9b",
   "metadata": {},
   "outputs": [],
   "source": [
    "# sequence_len = 20\n",
    "# X_corpus = []\n",
    "# y_corpus = []\n",
    "\n",
    "# for i in range(len(df['Text'])):\n",
    "#     text = df['Text'][i].split()\n",
    "#     num_sequences = len(text) // sequence_len\n",
    "    \n",
    "#     for j in range(num_sequences):\n",
    "#         start = sequence_len * j\n",
    "#         end = sequence_len * (j + 1)\n",
    "#         X_corpus.append(' '.join(text[start:end]))\n",
    "#         y_corpus.append(df['Category'][i])\n",
    "\n",
    "# from keras.preprocessing.text import Tokenizer\n",
    "# max_words = 10000\n",
    "# tokenizer = Tokenizer(num_words=max_words)\n",
    "# tokenizer.fit_on_texts(X_corpus)\n",
    "# X_sequences = tokenizer.texts_to_sequences(X_corpus)"
   ]
  }
 ],
 "metadata": {
  "kernelspec": {
   "display_name": "Python 3",
   "language": "python",
   "name": "python3"
  },
  "language_info": {
   "codemirror_mode": {
    "name": "ipython",
    "version": 3
   },
   "file_extension": ".py",
   "mimetype": "text/x-python",
   "name": "python",
   "nbconvert_exporter": "python",
   "pygments_lexer": "ipython3",
   "version": "3.8.5"
  }
 },
 "nbformat": 4,
 "nbformat_minor": 5
}
